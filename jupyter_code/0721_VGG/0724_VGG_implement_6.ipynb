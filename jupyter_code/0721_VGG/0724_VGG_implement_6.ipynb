{
 "cells": [
  {
   "cell_type": "code",
   "execution_count": 1,
   "metadata": {},
   "outputs": [
    {
     "name": "stderr",
     "output_type": "stream",
     "text": [
      "Using TensorFlow backend.\n"
     ]
    }
   ],
   "source": [
    "import numpy as np\n",
    "import keras\n",
    "from keras.models import Model\n",
    "from keras.layers import Flatten, Dense, Input, Conv2D, MaxPooling2D\n",
    "import tensorflow.keras.preprocessing.image as prep #데이터 Augmentation, 하면 좋은거임"
   ]
  },
  {
   "cell_type": "code",
   "execution_count": 2,
   "metadata": {},
   "outputs": [],
   "source": [
    "def VGG16_Brief(classes=2): # classes = 감지할 클래스 수\n",
    "    img_rows, img_cols = 224, 224\n",
    "    img_channels = 3    \n",
    "    img_dim = (img_rows, img_cols, img_channels) #차원..shape 정의..\n",
    "    \n",
    "    img_input = Input(shape=img_dim) #튜플.. 변경 x\n",
    "    x = Conv2D(64,(3,3),padding='same',activation = 'relu')(img_input) #1층\n",
    "    x = Conv2D(64,(3,3),padding='same',activation = 'relu')(x) #2층\n",
    "    x = MaxPooling2D((2,2),strides=(2,2))(x) #2층 maxpool\n",
    "\n",
    "    x = Conv2D(128,(3,3),padding='same',activation = 'relu')(x) #3층\n",
    "    #x = Conv2D(128,(3,3),padding='same',activation = 'relu')(x) #4층\n",
    "    x = MaxPooling2D((2,2),strides=(2,2))(x) #4층 maxpool\n",
    "\n",
    "    x = Conv2D(256,(3,3),padding='same',activation = 'relu')(x) #5층\n",
    "    #x = Conv2D(256,(3,3),padding='same',activation = 'relu')(x) #6층\n",
    "    x = Conv2D(256,(3,3),padding='same',activation = 'relu')(x) #7층\n",
    "    x = MaxPooling2D((2,2),strides=(2,2))(x) #7층 maxpool\n",
    "\n",
    "    #x = Conv2D(512,(3,3),padding='same',activation = 'relu')(x) #8층\n",
    "    #x = Conv2D(512,(3,3),padding='same',activation = 'relu')(x) #9층\n",
    "    #x = Conv2D(512,(3,3),padding='same',activation = 'relu')(x) #10층\n",
    "    #x = MaxPooling2D((2,2),strides=(2,2))(x) #10층 maxpool\n",
    "\n",
    "    #x = Conv2D(512,(3,3),padding='same',activation = 'relu')(x) #11층\n",
    "    #x = Conv2D(512,(3,3),padding='same',activation = 'relu')(x) #12층\n",
    "    #x = Conv2D(512,(3,3),padding='same',activation = 'relu')(x) #13층\n",
    "    #x = MaxPooling2D((2,2),strides=(2,2))(x) #13층 maxpool\n",
    "\n",
    "    x = Flatten()(x)\n",
    "    x = Dense(256, activation = 'relu')(x) #14층\n",
    "    x = Dense(256, activation = 'relu')(x) #15층\n",
    "    x = Dense(classes, activation = 'softmax')(x)\n",
    "    \n",
    "    model = Model(inputs=img_input, output = x)\n",
    "    return model"
   ]
  },
  {
   "cell_type": "code",
   "execution_count": 3,
   "metadata": {},
   "outputs": [
    {
     "name": "stdout",
     "output_type": "stream",
     "text": [
      "Model: \"model_1\"\n",
      "_________________________________________________________________\n",
      "Layer (type)                 Output Shape              Param #   \n",
      "=================================================================\n",
      "input_1 (InputLayer)         (None, 224, 224, 3)       0         \n",
      "_________________________________________________________________\n",
      "conv2d_1 (Conv2D)            (None, 224, 224, 64)      1792      \n",
      "_________________________________________________________________\n",
      "conv2d_2 (Conv2D)            (None, 224, 224, 64)      36928     \n",
      "_________________________________________________________________\n",
      "max_pooling2d_1 (MaxPooling2 (None, 112, 112, 64)      0         \n",
      "_________________________________________________________________\n",
      "conv2d_3 (Conv2D)            (None, 112, 112, 128)     73856     \n",
      "_________________________________________________________________\n",
      "max_pooling2d_2 (MaxPooling2 (None, 56, 56, 128)       0         \n",
      "_________________________________________________________________\n",
      "conv2d_4 (Conv2D)            (None, 56, 56, 256)       295168    \n",
      "_________________________________________________________________\n",
      "conv2d_5 (Conv2D)            (None, 56, 56, 256)       590080    \n",
      "_________________________________________________________________\n",
      "max_pooling2d_3 (MaxPooling2 (None, 28, 28, 256)       0         \n",
      "_________________________________________________________________\n",
      "flatten_1 (Flatten)          (None, 200704)            0         \n",
      "_________________________________________________________________\n",
      "dense_1 (Dense)              (None, 256)               51380480  \n",
      "_________________________________________________________________\n",
      "dense_2 (Dense)              (None, 256)               65792     \n",
      "_________________________________________________________________\n",
      "dense_3 (Dense)              (None, 2)                 514       \n",
      "=================================================================\n",
      "Total params: 52,444,610\n",
      "Trainable params: 52,444,610\n",
      "Non-trainable params: 0\n",
      "_________________________________________________________________\n"
     ]
    },
    {
     "name": "stderr",
     "output_type": "stream",
     "text": [
      "C:\\Users\\notou\\Anaconda3\\envs\\tf_gpu_10\\lib\\site-packages\\ipykernel_launcher.py:35: UserWarning: Update your `Model` call to the Keras 2 API: `Model(inputs=Tensor(\"in..., outputs=Tensor(\"de...)`\n"
     ]
    }
   ],
   "source": [
    "model = VGG16_Brief(classes = 2)\n",
    "model.summary()"
   ]
  },
  {
   "cell_type": "code",
   "execution_count": 4,
   "metadata": {},
   "outputs": [],
   "source": [
    "model.compile(optimizer=keras.optimizers.Adam(learning_rate=0.0003), \n",
    "              loss='categorical_crossentropy', metrics=['accuracy'])"
   ]
  },
  {
   "cell_type": "code",
   "execution_count": 5,
   "metadata": {},
   "outputs": [
    {
     "name": "stdout",
     "output_type": "stream",
     "text": [
      "Found 2000 images belonging to 2 classes.\n"
     ]
    }
   ],
   "source": [
    "cat_dog_data_dir='C:\\dataset\\data_100'\n",
    "\n",
    "train_datagen = prep.ImageDataGenerator(\n",
    "rescale=1./255, #normalization 이미지 픽셀 값이 1/225를 곱해준다. default = 1\n",
    "shear_range=0.2,#반시계 방향 밀리기\n",
    "zoom_range=0.2, #줌\n",
    "horizontal_flip=True #인풋을 무작위로 가로로 뒤집기\n",
    ")\n",
    "\n",
    "train_generator = train_datagen.flow_from_directory( #폴더 형태로된 데이터 구조 바로 가저옴\n",
    "                                                    #이 데이터 불러올 떄 앞에 정의한 파라미터로 전처리\n",
    "cat_dog_data_dir,\n",
    "target_size=(224,224), #폴더 내 이미지 사이즈 조정\n",
    "batch_size=32,  #32장씩 읽어들임\n",
    "#shuffle=True,\n",
    "class_mode='categorical' #2D one-hot 인코딩된 라벨 반환\n",
    ")"
   ]
  },
  {
   "cell_type": "code",
   "execution_count": 6,
   "metadata": {},
   "outputs": [],
   "source": [
    "from tensorflow.keras.callbacks import EarlyStopping, ReduceLROnPlateau\n",
    "learning_rate_reduction = ReduceLROnPlateau(monitor='accuracy', \n",
    "                                            patience=5, #5번동안 accuracy 안늘면 \n",
    "                                            verbose=1, #업데이트 되면 말해주는 것\n",
    "                                            factor=0.1, \n",
    "                                            min_lr=0.00001)"
   ]
  },
  {
   "cell_type": "code",
   "execution_count": 7,
   "metadata": {},
   "outputs": [
    {
     "name": "stdout",
     "output_type": "stream",
     "text": [
      "Epoch 1/10\n",
      "63/63 [==============================] - 26s 406ms/step - loss: 0.7011 - accuracy: 0.5110\n",
      "Epoch 2/10\n",
      "63/63 [==============================] - 25s 392ms/step - loss: 0.6931 - accuracy: 0.5045\n",
      "Epoch 3/10\n",
      "63/63 [==============================] - 26s 406ms/step - loss: 0.6941 - accuracy: 0.5035\n",
      "Epoch 4/10\n",
      "63/63 [==============================] - 28s 438ms/step - loss: 0.6936 - accuracy: 0.5065\n",
      "Epoch 5/10\n",
      "63/63 [==============================] - 26s 418ms/step - loss: 0.6925 - accuracy: 0.5215\n",
      "Epoch 6/10\n",
      "63/63 [==============================] - 27s 423ms/step - loss: 0.6787 - accuracy: 0.5720\n",
      "Epoch 7/10\n",
      "63/63 [==============================] - 27s 422ms/step - loss: 0.6682 - accuracy: 0.6070\n",
      "Epoch 8/10\n",
      "63/63 [==============================] - 25s 399ms/step - loss: 0.6155 - accuracy: 0.6560\n",
      "Epoch 9/10\n",
      "63/63 [==============================] - 25s 399ms/step - loss: 0.5863 - accuracy: 0.6910\n",
      "Epoch 10/10\n",
      "63/63 [==============================] - 27s 422ms/step - loss: 0.5514 - accuracy: 0.7345\n"
     ]
    }
   ],
   "source": [
    "history = model.fit(train_generator, epochs = 10, callbacks=[learning_rate_reduction])\n",
    "#generator을 input으로 사용할 떄는 batch_size 이용하지 않음 \n",
    "#batch_size 32 = 32장씩 읽어드리고 가중치 갱신 \n",
    "#batch_size 값이 크면 클수록 여러 데이터를 기억하고 있어야 하기에 메모리가 커야 합니다. 그대신 학습 시간이 빨라집니다. \n",
    "#batch_size 값이 작으면 학습은 꼼꼼하게 이루어질 수 있지만 학습 시간이 많이 걸립니다."
   ]
  },
  {
   "cell_type": "code",
   "execution_count": null,
   "metadata": {},
   "outputs": [],
   "source": [
    "#validation set은 여러 모델 중에서 최종 모델을 선정하기 위한 성능 평가에 관여한다 보시면됩니다. \n",
    "#따라서 validation set은 training과정에 관여하게 됩니다. 즉, validation set은 training 과정에 관여를 하며, \n",
    "#training이 된 여러가지 모델 중 가장 좋은 하나의 모델을 고르기 위한 셋입니다. \n",
    "#오버피팅 파악하고 피하기.\n",
    "#test set은 모든 training 과정이 완료된 후에 최종적으로 모델의 성능을 평가하기 위한 셋입니다. \n",
    "\n"
   ]
  },
  {
   "cell_type": "code",
   "execution_count": null,
   "metadata": {},
   "outputs": [],
   "source": [
    "import matplotlib.pyplot as plt\n",
    "plt.plot(history.history[\"accuracy\"], label= 'ACCURACY')\n",
    "plt.plot(history.history['loss'], label= 'LOSS')\n",
    "plt.ylabel(\"Accuracy\")\n",
    "plt.xlabel(\"Epoch\")\n",
    "plt.legend(loc='lower right')\n",
    "plt.show()"
   ]
  }
 ],
 "metadata": {
  "kernelspec": {
   "display_name": "[TF_2.0]",
   "language": "python",
   "name": "tf_gpu_10"
  },
  "language_info": {
   "codemirror_mode": {
    "name": "ipython",
    "version": 3
   },
   "file_extension": ".py",
   "mimetype": "text/x-python",
   "name": "python",
   "nbconvert_exporter": "python",
   "pygments_lexer": "ipython3",
   "version": "3.6.5"
  }
 },
 "nbformat": 4,
 "nbformat_minor": 4
}
