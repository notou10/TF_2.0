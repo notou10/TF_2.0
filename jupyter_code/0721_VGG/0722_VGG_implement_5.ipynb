{
 "cells": [
  {
   "cell_type": "code",
   "execution_count": 1,
   "metadata": {},
   "outputs": [
    {
     "name": "stderr",
     "output_type": "stream",
     "text": [
      "Using TensorFlow backend.\n"
     ]
    }
   ],
   "source": [
    "import numpy as np\n",
    "import keras\n",
    "from keras.models import Model\n",
    "from keras.layers import Flatten, Dense, Input, Conv2D, MaxPooling2D\n",
    "import tensorflow.keras.preprocessing.image as prep #데이터 Augmentation, 하면 좋은거임"
   ]
  },
  {
   "cell_type": "code",
   "execution_count": 2,
   "metadata": {},
   "outputs": [],
   "source": [
    "def VGG16_Brief(classes=2): # classes = 감지할 클래스 수\n",
    "    img_rows, img_cols = 224, 224\n",
    "    img_channels = 3    \n",
    "    img_dim = (img_rows, img_cols, img_channels) #차원..shape 정의..\n",
    "    \n",
    "    img_input = Input(shape=img_dim) #튜플.. 변경 x\n",
    "    x = Conv2D(64,(3,3),padding='same',activation = 'relu')(img_input) #1층\n",
    "    x = Conv2D(64,(3,3),padding='same',activation = 'relu')(x) #2층\n",
    "    x = MaxPooling2D((2,2),strides=(2,2))(x) #2층 maxpool\n",
    "\n",
    "    x = Conv2D(128,(3,3),padding='same',activation = 'relu')(x) #3층\n",
    "    #x = Conv2D(128,(3,3),padding='same',activation = 'relu')(x) #4층\n",
    "    x = MaxPooling2D((2,2),strides=(2,2))(x) #4층 maxpool\n",
    "\n",
    "    x = Conv2D(256,(3,3),padding='same',activation = 'relu')(x) #5층\n",
    "    #x = Conv2D(256,(3,3),padding='same',activation = 'relu')(x) #6층\n",
    "    x = Conv2D(256,(3,3),padding='same',activation = 'relu')(x) #7층\n",
    "    x = MaxPooling2D((2,2),strides=(2,2))(x) #7층 maxpool\n",
    "\n",
    "    #x = Conv2D(512,(3,3),padding='same',activation = 'relu')(x) #8층\n",
    "    #x = Conv2D(512,(3,3),padding='same',activation = 'relu')(x) #9층\n",
    "    #x = Conv2D(512,(3,3),padding='same',activation = 'relu')(x) #10층\n",
    "    #x = MaxPooling2D((2,2),strides=(2,2))(x) #10층 maxpool\n",
    "\n",
    "    #x = Conv2D(512,(3,3),padding='same',activation = 'relu')(x) #11층\n",
    "    #x = Conv2D(512,(3,3),padding='same',activation = 'relu')(x) #12층\n",
    "    #x = Conv2D(512,(3,3),padding='same',activation = 'relu')(x) #13층\n",
    "    #x = MaxPooling2D((2,2),strides=(2,2))(x) #13층 maxpool\n",
    "\n",
    "    x = Flatten()(x)\n",
    "    x = Dense(256, activation = 'relu')(x) #14층\n",
    "    x = Dense(256, activation = 'relu')(x) #15층\n",
    "    x = Dense(classes, activation = 'softmax')(x)\n",
    "    \n",
    "    model = Model(inputs=img_input, output = x)\n",
    "    return model"
   ]
  },
  {
   "cell_type": "code",
   "execution_count": 3,
   "metadata": {
    "collapsed": true
   },
   "outputs": [
    {
     "name": "stdout",
     "output_type": "stream",
     "text": [
      "Model: \"model_1\"\n",
      "_________________________________________________________________\n",
      "Layer (type)                 Output Shape              Param #   \n",
      "=================================================================\n",
      "input_1 (InputLayer)         (None, 224, 224, 3)       0         \n",
      "_________________________________________________________________\n",
      "conv2d_1 (Conv2D)            (None, 224, 224, 64)      1792      \n",
      "_________________________________________________________________\n",
      "conv2d_2 (Conv2D)            (None, 224, 224, 64)      36928     \n",
      "_________________________________________________________________\n",
      "max_pooling2d_1 (MaxPooling2 (None, 112, 112, 64)      0         \n",
      "_________________________________________________________________\n",
      "conv2d_3 (Conv2D)            (None, 112, 112, 128)     73856     \n",
      "_________________________________________________________________\n",
      "max_pooling2d_2 (MaxPooling2 (None, 56, 56, 128)       0         \n",
      "_________________________________________________________________\n",
      "conv2d_4 (Conv2D)            (None, 56, 56, 256)       295168    \n",
      "_________________________________________________________________\n",
      "conv2d_5 (Conv2D)            (None, 56, 56, 256)       590080    \n",
      "_________________________________________________________________\n",
      "max_pooling2d_3 (MaxPooling2 (None, 28, 28, 256)       0         \n",
      "_________________________________________________________________\n",
      "flatten_1 (Flatten)          (None, 200704)            0         \n",
      "_________________________________________________________________\n",
      "dense_1 (Dense)              (None, 256)               51380480  \n",
      "_________________________________________________________________\n",
      "dense_2 (Dense)              (None, 256)               65792     \n",
      "_________________________________________________________________\n",
      "dense_3 (Dense)              (None, 2)                 514       \n",
      "=================================================================\n",
      "Total params: 52,444,610\n",
      "Trainable params: 52,444,610\n",
      "Non-trainable params: 0\n",
      "_________________________________________________________________\n"
     ]
    },
    {
     "name": "stderr",
     "output_type": "stream",
     "text": [
      "C:\\Users\\notou\\Anaconda3\\envs\\tf_gpu_10\\lib\\site-packages\\ipykernel_launcher.py:35: UserWarning: Update your `Model` call to the Keras 2 API: `Model(inputs=Tensor(\"in..., outputs=Tensor(\"de...)`\n"
     ]
    }
   ],
   "source": [
    "model = VGG16_Brief(classes = 2)\n",
    "model.summary()"
   ]
  },
  {
   "cell_type": "code",
   "execution_count": 4,
   "metadata": {},
   "outputs": [],
   "source": [
    "model.compile(optimizer=keras.optimizers.Adam(learning_rate=0.0003), \n",
    "              loss='categorical_crossentropy', metrics=['accuracy'])"
   ]
  },
  {
   "cell_type": "code",
   "execution_count": 87,
   "metadata": {},
   "outputs": [
    {
     "name": "stdout",
     "output_type": "stream",
     "text": [
      "Found 2000 images belonging to 2 classes.\n"
     ]
    }
   ],
   "source": [
    "#데이터 증강.. dataset이 적을 떄 overfitting 방지\n",
    "cat_dog_data_dir='C:\\dataset\\data_100'\n",
    "\n",
    "train_datagen = prep.ImageDataGenerator(\n",
    "rescale=1./255, #normalization 이미지 픽셀 값이 1/225를 곱해준다. default = 1\n",
    "shear_range=0.2,#반시계 방향 밀리기\n",
    "zoom_range=0.2, #줌\n",
    "horizontal_flip=True #인풋을 무작위로 가로로 뒤집기\n",
    ")\n",
    "\n",
    "train_generator = train_datagen.flow_from_directory( #폴더 형태로된 데이터 구조 바로 가저옴\n",
    "                                                    #이 데이터 불러올 떄 앞에 정의한 파라미터로 전처리\n",
    "cat_dog_data_dir,\n",
    "target_size=(224,224), #폴더 내 이미지 사이즈 조정\n",
    "batch_size=32,  #32장씩 읽어들임\n",
    "#shuffle=True,\n",
    "class_mode='categorical' #2D one-hot 인코딩된 라벨 반환\n",
    ")"
   ]
  },
  {
   "cell_type": "code",
   "execution_count": 88,
   "metadata": {},
   "outputs": [],
   "source": [
    "#learnung rate 조정 필요할 시 조정해주는 code\n",
    "from tensorflow.keras.callbacks import EarlyStopping, ReduceLROnPlateau\n",
    "learning_rate_reduction = ReduceLROnPlateau(monitor='accuracy', \n",
    "                                            patience=5, #5번동안 accuracy 안늘면 \n",
    "                                            verbose=1, #업데이트 되면 말해주는 것\n",
    "                                            factor=0.1, \n",
    "                                            min_lr=0.00001)"
   ]
  },
  {
   "cell_type": "code",
   "execution_count": 89,
   "metadata": {
    "collapsed": true
   },
   "outputs": [
    {
     "name": "stdout",
     "output_type": "stream",
     "text": [
      "Epoch 1/10\n",
      "63/63 [==============================] - 28s 439ms/step - loss: 0.2692 - accuracy: 0.8830\n",
      "Epoch 2/10\n",
      "63/63 [==============================] - 27s 431ms/step - loss: 0.2634 - accuracy: 0.8900\n",
      "Epoch 3/10\n",
      "63/63 [==============================] - 28s 437ms/step - loss: 0.2373 - accuracy: 0.9075\n",
      "Epoch 4/10\n",
      "63/63 [==============================] - 26s 419ms/step - loss: 0.2226 - accuracy: 0.9085\n",
      "Epoch 5/10\n",
      "63/63 [==============================] - 25s 393ms/step - loss: 0.2312 - accuracy: 0.9085\n",
      "Epoch 6/10\n",
      "63/63 [==============================] - 25s 396ms/step - loss: 0.1744 - accuracy: 0.9295\n",
      "Epoch 7/10\n",
      "63/63 [==============================] - 24s 388ms/step - loss: 0.2031 - accuracy: 0.9160\n",
      "Epoch 8/10\n",
      "63/63 [==============================] - 24s 386ms/step - loss: 0.1507 - accuracy: 0.9455\n",
      "Epoch 9/10\n",
      "63/63 [==============================] - 25s 390ms/step - loss: 0.1338 - accuracy: 0.9490\n",
      "Epoch 10/10\n",
      "63/63 [==============================] - 25s 395ms/step - loss: 0.1392 - accuracy: 0.9475\n"
     ]
    }
   ],
   "source": [
    "history = model.fit(train_generator, epochs = 10, callbacks=[learning_rate_reduction])\n",
    "#generator을 input으로 사용할 떄는 batch_size 이용하지 않음 \n",
    "#batch_size 32 = 32장씩 읽어드리고 가중치 갱신 \n",
    "#batch_size 값이 크면 클수록 여러 데이터를 기억하고 있어야 하기에 메모리가 커야 합니다. 그대신 학습 시간이 빨라집니다. \n",
    "#batch_size 값이 작으면 학습은 꼼꼼하게 이루어질 수 있지만 학습 시간이 많이 걸립니다."
   ]
  },
  {
   "cell_type": "code",
   "execution_count": 60,
   "metadata": {
    "collapsed": true
   },
   "outputs": [
    {
     "data": {
      "image/png": "[encoded data removed]",
      "text/plain": [
       "<Figure size 432x288 with 1 Axes>"
      ]
     },
     "metadata": {
      "needs_background": "light"
     },
     "output_type": "display_data"
    }
   ],
   "source": [
    "import matplotlib.pyplot as plt\n",
    "plt.plot(history.history[\"accuracy\"], label= 'ACCURACY')\n",
    "plt.plot(history.history['loss'], label= 'LOSS')\n",
    "plt.ylabel(\"Accuracy\")\n",
    "plt.xlabel(\"Epoch\")\n",
    "plt.legend(loc='lower right')\n",
    "plt.show()"
   ]
  },
  {
   "cell_type": "code",
   "execution_count": 86,
   "metadata": {
    "collapsed": true
   },
   "outputs": [
    {
     "name": "stdout",
     "output_type": "stream",
     "text": [
      "[[[ 46  19   2]\n",
      "  [ 46  19   2]\n",
      "  [ 45  18   3]\n",
      "  ...\n",
      "  [ 60  29   0]\n",
      "  [ 65  34   0]\n",
      "  [ 71  40   2]]\n",
      "\n",
      " [[ 41  16   0]\n",
      "  [ 41  16   0]\n",
      "  [ 41  16   1]\n",
      "  ...\n",
      "  [ 62  30   0]\n",
      "  [ 67  35   1]\n",
      "  [ 72  40   4]]\n",
      "\n",
      " [[ 41  16   0]\n",
      "  [ 41  16   0]\n",
      "  [ 41  16   1]\n",
      "  ...\n",
      "  [ 62  30   0]\n",
      "  [ 67  35   1]\n",
      "  [ 72  40   4]]\n",
      "\n",
      " ...\n",
      "\n",
      " [[113 116 123]\n",
      "  [111 113 121]\n",
      "  [110 110 118]\n",
      "  ...\n",
      "  [ 83  80  89]\n",
      "  [ 84  81  89]\n",
      "  [ 86  83  91]]\n",
      "\n",
      " [[113 116 123]\n",
      "  [111 113 121]\n",
      "  [110 110 118]\n",
      "  ...\n",
      "  [ 83  80  89]\n",
      "  [ 84  81  89]\n",
      "  [ 86  83  91]]\n",
      "\n",
      " [[111 114 121]\n",
      "  [111 113 120]\n",
      "  [112 112 120]\n",
      "  ...\n",
      "  [ 85  82  90]\n",
      "  [ 85  82  90]\n",
      "  [ 85  82  90]]]\n",
      "1.0\n",
      "dog\n"
     ]
    }
   ],
   "source": [
    "from keras.preprocessing import image\n",
    "img = image.load_img(\"dogg1.png\",target_size=(224,224))\n",
    "img = np.asarray(img) #array로 변환\n",
    "\n",
    "print(img)\n",
    "plt.imshow(img) #이미지 보여줌\n",
    "img = np.expand_dims(img, axis=0)  #shape 한 차원 확장 \n",
    "\n",
    "output = model.predict(img)\n",
    "\n",
    "print(output[0][1])\n",
    "if output[0][0] > output[0][1]:\n",
    "    print(\"cat\")\n",
    "else:\n",
    "    print('dog')\n",
    "    "
   ]
  },
  {
   "cell_type": "code",
   "execution_count": null,
   "metadata": {},
   "outputs": [],
   "source": []
  }
 ],
 "metadata": {
  "kernelspec": {
   "display_name": "[TF_2.0]",
   "language": "python",
   "name": "tf_gpu_10"
  },
  "language_info": {
   "codemirror_mode": {
    "name": "ipython",
    "version": 3
   },
   "file_extension": ".py",
   "mimetype": "text/x-python",
   "name": "python",
   "nbconvert_exporter": "python",
   "pygments_lexer": "ipython3",
   "version": "3.6.5"
  }
 },
 "nbformat": 4,
 "nbformat_minor": 4
}
