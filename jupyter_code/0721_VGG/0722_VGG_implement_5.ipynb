{
 "cells": [
  {
   "cell_type": "code",
   "execution_count": 1,
   "metadata": {},
   "outputs": [
    {
     "name": "stderr",
     "output_type": "stream",
     "text": [
      "Using TensorFlow backend.\n"
     ]
    }
   ],
   "source": [
    "import numpy as np\n",
    "import keras\n",
    "from keras.models import Model\n",
    "from keras.layers import Flatten, Dense, Input, Conv2D, MaxPooling2D\n",
    "import tensorflow.keras.preprocessing.image as prep #데이터 Augmentation, 하면 좋은거임"
   ]
  },
  {
   "cell_type": "code",
   "execution_count": 2,
   "metadata": {},
   "outputs": [],
   "source": [
    "def VGG16_Brief(classes=2): # classes = 감지할 클래스 수\n",
    "    img_rows, img_cols = 224, 224\n",
    "    img_channels = 3    \n",
    "    img_dim = (img_rows, img_cols, img_channels) #차원..shape 정의..\n",
    "    \n",
    "    img_input = Input(shape=img_dim) #튜플.. 변경 x\n",
    "    x = Conv2D(64,(3,3),padding='same',activation = 'relu')(img_input) #1층\n",
    "    x = Conv2D(64,(3,3),padding='same',activation = 'relu')(x) #2층\n",
    "    x = MaxPooling2D((2,2),strides=(2,2))(x) #2층 maxpool\n",
    "\n",
    "    x = Conv2D(128,(3,3),padding='same',activation = 'relu')(x) #3층\n",
    "    #x = Conv2D(128,(3,3),padding='same',activation = 'relu')(x) #4층\n",
    "    x = MaxPooling2D((2,2),strides=(2,2))(x) #4층 maxpool\n",
    "\n",
    "    x = Conv2D(256,(3,3),padding='same',activation = 'relu')(x) #5층\n",
    "    #x = Conv2D(256,(3,3),padding='same',activation = 'relu')(x) #6층\n",
    "    x = Conv2D(256,(3,3),padding='same',activation = 'relu')(x) #7층\n",
    "    x = MaxPooling2D((2,2),strides=(2,2))(x) #7층 maxpool\n",
    "\n",
    "    #x = Conv2D(512,(3,3),padding='same',activation = 'relu')(x) #8층\n",
    "    #x = Conv2D(512,(3,3),padding='same',activation = 'relu')(x) #9층\n",
    "    #x = Conv2D(512,(3,3),padding='same',activation = 'relu')(x) #10층\n",
    "    #x = MaxPooling2D((2,2),strides=(2,2))(x) #10층 maxpool\n",
    "\n",
    "    #x = Conv2D(512,(3,3),padding='same',activation = 'relu')(x) #11층\n",
    "    #x = Conv2D(512,(3,3),padding='same',activation = 'relu')(x) #12층\n",
    "    #x = Conv2D(512,(3,3),padding='same',activation = 'relu')(x) #13층\n",
    "    #x = MaxPooling2D((2,2),strides=(2,2))(x) #13층 maxpool\n",
    "\n",
    "    x = Flatten()(x)\n",
    "    x = Dense(256, activation = 'relu')(x) #14층\n",
    "    x = Dense(256, activation = 'relu')(x) #15층\n",
    "    x = Dense(classes, activation = 'softmax')(x)\n",
    "    \n",
    "    model = Model(inputs=img_input, output = x)\n",
    "    return model"
   ]
  },
  {
   "cell_type": "code",
   "execution_count": 3,
   "metadata": {},
   "outputs": [
    {
     "name": "stdout",
     "output_type": "stream",
     "text": [
      "Model: \"model_1\"\n",
      "_________________________________________________________________\n",
      "Layer (type)                 Output Shape              Param #   \n",
      "=================================================================\n",
      "input_1 (InputLayer)         (None, 224, 224, 3)       0         \n",
      "_________________________________________________________________\n",
      "conv2d_1 (Conv2D)            (None, 224, 224, 64)      1792      \n",
      "_________________________________________________________________\n",
      "conv2d_2 (Conv2D)            (None, 224, 224, 64)      36928     \n",
      "_________________________________________________________________\n",
      "max_pooling2d_1 (MaxPooling2 (None, 112, 112, 64)      0         \n",
      "_________________________________________________________________\n",
      "conv2d_3 (Conv2D)            (None, 112, 112, 128)     73856     \n",
      "_________________________________________________________________\n",
      "max_pooling2d_2 (MaxPooling2 (None, 56, 56, 128)       0         \n",
      "_________________________________________________________________\n",
      "conv2d_4 (Conv2D)            (None, 56, 56, 256)       295168    \n",
      "_________________________________________________________________\n",
      "conv2d_5 (Conv2D)            (None, 56, 56, 256)       590080    \n",
      "_________________________________________________________________\n",
      "max_pooling2d_3 (MaxPooling2 (None, 28, 28, 256)       0         \n",
      "_________________________________________________________________\n",
      "flatten_1 (Flatten)          (None, 200704)            0         \n",
      "_________________________________________________________________\n",
      "dense_1 (Dense)              (None, 256)               51380480  \n",
      "_________________________________________________________________\n",
      "dense_2 (Dense)              (None, 256)               65792     \n",
      "_________________________________________________________________\n",
      "dense_3 (Dense)              (None, 2)                 514       \n",
      "=================================================================\n",
      "Total params: 52,444,610\n",
      "Trainable params: 52,444,610\n",
      "Non-trainable params: 0\n",
      "_________________________________________________________________\n"
     ]
    },
    {
     "name": "stderr",
     "output_type": "stream",
     "text": [
      "C:\\Users\\notou\\Anaconda3\\envs\\tf_gpu_10\\lib\\site-packages\\ipykernel_launcher.py:35: UserWarning: Update your `Model` call to the Keras 2 API: `Model(inputs=Tensor(\"in..., outputs=Tensor(\"de...)`\n"
     ]
    }
   ],
   "source": [
    "model = VGG16_Brief(classes = 2)\n",
    "model.summary()"
   ]
  },
  {
   "cell_type": "code",
   "execution_count": 4,
   "metadata": {},
   "outputs": [],
   "source": [
    "model.compile(optimizer=keras.optimizers.Adam(learning_rate=0.0003), \n",
    "              loss='categorical_crossentropy', metrics=['accuracy'])"
   ]
  },
  {
   "cell_type": "code",
   "execution_count": 6,
   "metadata": {},
   "outputs": [
    {
     "name": "stdout",
     "output_type": "stream",
     "text": [
      "Found 2000 images belonging to 2 classes.\n"
     ]
    }
   ],
   "source": [
    "#데이터 증강\n",
    "cat_dog_data_dir='C:\\dataset\\data_100'\n",
    "\n",
    "train_datagen = prep.ImageDataGenerator(\n",
    "rescale=1./255, #normalization\n",
    "shear_range=0.2,\n",
    "zoom_range=0.2,\n",
    "horizontal_flip=True\n",
    ")\n",
    "\n",
    "train_generator = train_datagen.flow_from_directory(\n",
    "cat_dog_data_dir,\n",
    "target_size=(224,224),\n",
    "batch_size=32,\n",
    "shuffle=True,\n",
    "class_mode='categorical'\n",
    ")"
   ]
  },
  {
   "cell_type": "code",
   "execution_count": 7,
   "metadata": {},
   "outputs": [
    {
     "name": "stdout",
     "output_type": "stream",
     "text": [
      "[[1. 0.]\n",
      " [0. 1.]\n",
      " [1. 0.]\n",
      " [0. 1.]\n",
      " [0. 1.]\n",
      " [0. 1.]\n",
      " [0. 1.]\n",
      " [0. 1.]\n",
      " [1. 0.]\n",
      " [1. 0.]\n",
      " [1. 0.]\n",
      " [1. 0.]\n",
      " [0. 1.]\n",
      " [0. 1.]\n",
      " [1. 0.]\n",
      " [0. 1.]\n",
      " [0. 1.]\n",
      " [1. 0.]\n",
      " [1. 0.]\n",
      " [0. 1.]\n",
      " [0. 1.]\n",
      " [0. 1.]\n",
      " [1. 0.]\n",
      " [1. 0.]\n",
      " [0. 1.]\n",
      " [0. 1.]\n",
      " [1. 0.]\n",
      " [0. 1.]\n",
      " [0. 1.]\n",
      " [1. 0.]\n",
      " [0. 1.]\n",
      " [0. 1.]]\n"
     ]
    }
   ],
   "source": [
    "for data, labels in train_generator:\n",
    "    print(labels)\n",
    "    break"
   ]
  },
  {
   "cell_type": "code",
   "execution_count": 11,
   "metadata": {},
   "outputs": [],
   "source": [
    "#learnung rate 조정 필요할 시 조정해주는 code\n",
    "from tensorflow.keras.callbacks import EarlyStopping, ReduceLROnPlateau\n",
    "learning_rate_reduction = ReduceLROnPlateau(monitor='accuracy', \n",
    "                                            patience=5, \n",
    "                                            verbose=1, \n",
    "                                            factor=0.1, \n",
    "                                            min_lr=0.00001)"
   ]
  },
  {
   "cell_type": "code",
   "execution_count": 12,
   "metadata": {},
   "outputs": [
    {
     "name": "stdout",
     "output_type": "stream",
     "text": [
      "Epoch 1/10\n",
      "63/63 [==============================] - 35s 561ms/step - loss: 0.7077 - accuracy: 0.5045\n",
      "Epoch 2/10\n",
      "63/63 [==============================] - 26s 415ms/step - loss: 0.6748 - accuracy: 0.5540\n",
      "Epoch 3/10\n",
      "63/63 [==============================] - 27s 425ms/step - loss: 0.6640 - accuracy: 0.6010\n",
      "Epoch 4/10\n",
      "63/63 [==============================] - 25s 397ms/step - loss: 0.6409 - accuracy: 0.6580\n",
      "Epoch 5/10\n",
      "63/63 [==============================] - 25s 399ms/step - loss: 0.6073 - accuracy: 0.6680\n",
      "Epoch 6/10\n",
      "63/63 [==============================] - 25s 400ms/step - loss: 0.5903 - accuracy: 0.6905\n",
      "Epoch 7/10\n",
      "63/63 [==============================] - 26s 411ms/step - loss: 0.5636 - accuracy: 0.7095\n",
      "Epoch 8/10\n",
      "63/63 [==============================] - 25s 394ms/step - loss: 0.5401 - accuracy: 0.7345\n",
      "Epoch 9/10\n",
      "63/63 [==============================] - 25s 395ms/step - loss: 0.5201 - accuracy: 0.7490\n",
      "Epoch 10/10\n",
      "63/63 [==============================] - 26s 410ms/step - loss: 0.5042 - accuracy: 0.7645\n"
     ]
    }
   ],
   "source": [
    "history = model.fit(train_generator, epochs = 10, callbacks=[learning_rate_reduction])"
   ]
  },
  {
   "cell_type": "code",
   "execution_count": 15,
   "metadata": {},
   "outputs": [
    {
     "data": {
      "image/png": "[encoded data removed]",
      "text/plain": [
       "<Figure size 432x288 with 1 Axes>"
      ]
     },
     "metadata": {
      "needs_background": "light"
     },
     "output_type": "display_data"
    }
   ],
   "source": [
    "import matplotlib.pyplot as plt\n",
    "plt.plot(history.history[\"accuracy\"], label= 'recall 1')\n",
    "plt.plot(history.history['loss'])\n",
    "plt.ylabel(\"Accuracy\")\n",
    "plt.xlabel(\"Epoch\")\n",
    "plt.show()"
   ]
  },
  {
   "cell_type": "code",
   "execution_count": 8,
   "metadata": {},
   "outputs": [
    {
     "ename": "NameError",
     "evalue": "name 'plt' is not defined",
     "output_type": "error",
     "traceback": [
      "\u001b[1;31m---------------------------------------------------------------------------\u001b[0m",
      "\u001b[1;31mNameError\u001b[0m                                 Traceback (most recent call last)",
      "\u001b[1;32m<ipython-input-8-f8a53ec49e17>\u001b[0m in \u001b[0;36m<module>\u001b[1;34m\u001b[0m\n\u001b[0;32m      2\u001b[0m \u001b[0mimg\u001b[0m \u001b[1;33m=\u001b[0m \u001b[0mimage\u001b[0m\u001b[1;33m.\u001b[0m\u001b[0mload_img\u001b[0m\u001b[1;33m(\u001b[0m\u001b[1;34m\"catt4.png\"\u001b[0m\u001b[1;33m,\u001b[0m\u001b[0mtarget_size\u001b[0m\u001b[1;33m=\u001b[0m\u001b[1;33m(\u001b[0m\u001b[1;36m224\u001b[0m\u001b[1;33m,\u001b[0m\u001b[1;36m224\u001b[0m\u001b[1;33m)\u001b[0m\u001b[1;33m)\u001b[0m\u001b[1;33m\u001b[0m\u001b[0m\n\u001b[0;32m      3\u001b[0m \u001b[0mimg\u001b[0m \u001b[1;33m=\u001b[0m \u001b[0mnp\u001b[0m\u001b[1;33m.\u001b[0m\u001b[0masarray\u001b[0m\u001b[1;33m(\u001b[0m\u001b[0mimg\u001b[0m\u001b[1;33m)\u001b[0m\u001b[1;33m\u001b[0m\u001b[0m\n\u001b[1;32m----> 4\u001b[1;33m \u001b[0mplt\u001b[0m\u001b[1;33m.\u001b[0m\u001b[0mimshow\u001b[0m\u001b[1;33m(\u001b[0m\u001b[0mimg\u001b[0m\u001b[1;33m)\u001b[0m\u001b[1;33m\u001b[0m\u001b[0m\n\u001b[0m\u001b[0;32m      5\u001b[0m \u001b[0mimg\u001b[0m \u001b[1;33m=\u001b[0m \u001b[0mnp\u001b[0m\u001b[1;33m.\u001b[0m\u001b[0mexpand_dims\u001b[0m\u001b[1;33m(\u001b[0m\u001b[0mimg\u001b[0m\u001b[1;33m,\u001b[0m \u001b[0maxis\u001b[0m\u001b[1;33m=\u001b[0m\u001b[1;36m0\u001b[0m\u001b[1;33m)\u001b[0m\u001b[1;33m\u001b[0m\u001b[0m\n\u001b[0;32m      6\u001b[0m \u001b[1;33m\u001b[0m\u001b[0m\n",
      "\u001b[1;31mNameError\u001b[0m: name 'plt' is not defined"
     ]
    }
   ],
   "source": [
    "from keras.preprocessing import image\n",
    "img = image.load_img(\"catt4.png\",target_size=(224,224))\n",
    "img = np.asarray(img)\n",
    "plt.imshow(img)\n",
    "img = np.expand_dims(img, axis=0)\n",
    "\n",
    "output = model.predict(img)\n",
    "if output[0][0] > output[0][1]:\n",
    "    print(\"cat\")\n",
    "else:\n",
    "    print('dog')"
   ]
  },
  {
   "cell_type": "code",
   "execution_count": null,
   "metadata": {},
   "outputs": [],
   "source": []
  }
 ],
 "metadata": {
  "kernelspec": {
   "display_name": "[TF_2.0]",
   "language": "python",
   "name": "tf_gpu_10"
  },
  "language_info": {
   "codemirror_mode": {
    "name": "ipython",
    "version": 3
   },
   "file_extension": ".py",
   "mimetype": "text/x-python",
   "name": "python",
   "nbconvert_exporter": "python",
   "pygments_lexer": "ipython3",
   "version": "3.6.5"
  }
 },
 "nbformat": 4,
 "nbformat_minor": 4
}
